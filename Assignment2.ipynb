{
 "cells": [
  {
   "cell_type": "code",
   "execution_count": 4,
   "metadata": {},
   "outputs": [],
   "source": [
    "import pandas as pd\n",
    "from bs4 import BeautifulSoup\n",
    "import requests\n",
    "import time"
   ]
  },
  {
   "cell_type": "code",
   "execution_count": 10,
   "metadata": {},
   "outputs": [],
   "source": [
    "def get_data():\n",
    "    html_doc = requests.get('https://www.moneycontrol.com/stocks/marketstats/indexcomp.php?optex=NSE&opttopic=indexcomp&index=9')\n",
    "    soup = BeautifulSoup(html_doc.text, 'html.parser')\n",
    "    rows = soup.findAll('table')[1].findAll('tr')[1:]\n",
    "    data = []\n",
    "    for row in rows:\n",
    "        cols = row.findAll('td')\n",
    "        temp = []\n",
    "        for i, col in enumerate(cols):\n",
    "            if i == 0:\n",
    "                temp.append(col.find('b').text)\n",
    "            else:\n",
    "                temp.append(col.text)\n",
    "        data.append(temp)\n",
    "    return pd.DataFrame(data, columns=['Company Name', 'Industry', 'Last Price', 'Change', '%Chg', 'Mkt Cap'])"
   ]
  },
  {
   "cell_type": "code",
   "execution_count": 11,
   "metadata": {},
   "outputs": [],
   "source": [
    "def alert(company_name, percent_change):\n",
    "    print(f\"{company_name}: {percent_change}\")\n",
    "    \n",
    "def check_for_alert(prev_change, new_change):\n",
    "    res = []\n",
    "    l = len(prev_change)\n",
    "    for i in range(l):\n",
    "        if abs(float(new_change[i])-float(prev_change[i])) >= 2:\n",
    "            res.append(i)\n",
    "    return res"
   ]
  },
  {
   "cell_type": "code",
   "execution_count": 31,
   "metadata": {},
   "outputs": [
    {
     "name": "stdout",
     "output_type": "stream",
     "text": [
      "    Company Name                     Industry Last Price  Change   %Chg  \\\n",
      "0    Adani Ports     Transport Infrastructure     229.45   21.65  10.42   \n",
      "1   Asian Paints                       Paints   1,545.00   46.55   3.11   \n",
      "2      Axis Bank               Bank - Private     320.45   11.80   3.82   \n",
      "3     Bajaj Auto  Automobile - 2 & 3 Wheelers   1,990.80   55.25   2.85   \n",
      "4  Bajaj Finance               Finance - NBFC   2,491.35  225.20   9.94   \n",
      "\n",
      "      Mkt Cap  \n",
      "0   46,618.54  \n",
      "1  148,196.06  \n",
      "2   90,413.09  \n",
      "3   57,607.19  \n",
      "4  149,901.81  \n"
     ]
    }
   ],
   "source": [
    "df = pd.DataFrame(data, columns=['Company Name', 'Industry', 'Last Price', 'Change', '%Chg', 'Mkt Cap'])\n",
    "print(df.head(5))"
   ]
  },
  {
   "cell_type": "code",
   "execution_count": 46,
   "metadata": {},
   "outputs": [
    {
     "name": "stdout",
     "output_type": "stream",
     "text": [
      "Data Scraped\n",
      "0\n",
      "122.57508277893066\n",
      "244.45720505714417\n",
      "394.8085136413574\n"
     ]
    },
    {
     "ename": "KeyboardInterrupt",
     "evalue": "",
     "output_type": "error",
     "traceback": [
      "\u001b[0;31m---------------------------------------------------------------------------\u001b[0m",
      "\u001b[0;31mKeyboardInterrupt\u001b[0m                         Traceback (most recent call last)",
      "\u001b[0;32m<ipython-input-46-1b8fc27edf39>\u001b[0m in \u001b[0;36m<module>\u001b[0;34m\u001b[0m\n\u001b[1;32m      4\u001b[0m \u001b[0mprint\u001b[0m\u001b[0;34m(\u001b[0m\u001b[0;34m\"Data Scraped\"\u001b[0m\u001b[0;34m)\u001b[0m\u001b[0;34m\u001b[0m\u001b[0;34m\u001b[0m\u001b[0m\n\u001b[1;32m      5\u001b[0m \u001b[0;32mwhile\u001b[0m \u001b[0mrunning_time\u001b[0m \u001b[0;34m<=\u001b[0m \u001b[0;36m1200\u001b[0m\u001b[0;34m:\u001b[0m\u001b[0;34m\u001b[0m\u001b[0;34m\u001b[0m\u001b[0m\n\u001b[0;32m----> 6\u001b[0;31m     \u001b[0mtime\u001b[0m\u001b[0;34m.\u001b[0m\u001b[0msleep\u001b[0m\u001b[0;34m(\u001b[0m\u001b[0;36m120\u001b[0m\u001b[0;34m)\u001b[0m\u001b[0;34m\u001b[0m\u001b[0;34m\u001b[0m\u001b[0m\n\u001b[0m\u001b[1;32m      7\u001b[0m     \u001b[0mprint\u001b[0m\u001b[0;34m(\u001b[0m\u001b[0mrunning_time\u001b[0m\u001b[0;34m)\u001b[0m\u001b[0;34m\u001b[0m\u001b[0;34m\u001b[0m\u001b[0m\n\u001b[1;32m      8\u001b[0m     \u001b[0mnew_df\u001b[0m \u001b[0;34m=\u001b[0m \u001b[0mget_data\u001b[0m\u001b[0;34m(\u001b[0m\u001b[0;34m)\u001b[0m\u001b[0;34m\u001b[0m\u001b[0;34m\u001b[0m\u001b[0m\n",
      "\u001b[0;31mKeyboardInterrupt\u001b[0m: "
     ]
    }
   ],
   "source": [
    "start_time = time.time()\n",
    "data_extraction_time = 0\n",
    "prev_df = get_data(data_extraction_time)\n",
    "running_time = 0\n",
    "data_extraction_time += 30\n",
    "data = [prev_df]\n",
    "while running_time <= 1200:\n",
    "    time.sleep(30)\n",
    "    print(running_time)\n",
    "    new_df = get_data(data_extraction_time)\n",
    "    temp = check_for_alert(prev_df[:]['%Chg'].values, new_df[:]['%Chg'].values)\n",
    "    for i in temp:\n",
    "        alert(new_df[i]['Company Name'], abs(float(new_df[i]['%Chg'])-float(prev_df[i]['%Chg'])))\n",
    "    prev_df = new_df\n",
    "    data_extraction_time += 30\n",
    "    running_time = time.time()-start_time"
   ]
  },
  {
   "cell_type": "code",
   "execution_count": 12,
   "metadata": {},
   "outputs": [
    {
     "name": "stdout",
     "output_type": "stream",
     "text": [
      "1\n",
      "2\n",
      "3\n",
      "3\n",
      "3\n",
      "3\n",
      "3\n",
      "3\n",
      "3\n",
      "3\n"
     ]
    }
   ],
   "source": [
    "start_time = time.time()\n",
    "df = get_data()\n",
    "running_time = 0\n",
    "data = [df]\n",
    "total_time = 20 #minutes\n",
    "while running_time <= total_time*60:\n",
    "    time.sleep(30)\n",
    "    df = get_data()\n",
    "    data.append(df)\n",
    "    if len(data) % 4 == 0:\n",
    "        temp = check_for_alert(data[0][:]['%Chg'].values, data[-1][:]['%Chg'].values)\n",
    "        for i in temp:\n",
    "            alert(data[-1][i]['Company Name'], abs(float(data[-1][i]['%Chg'])-float(data[0][i]['%Chg'])))\n",
    "        data = data[1:]\n",
    "    running_time = time.time()-start_time"
   ]
  }
 ],
 "metadata": {
  "kernelspec": {
   "display_name": "Python 3",
   "language": "python",
   "name": "python3"
  },
  "language_info": {
   "codemirror_mode": {
    "name": "ipython",
    "version": 3
   },
   "file_extension": ".py",
   "mimetype": "text/x-python",
   "name": "python",
   "nbconvert_exporter": "python",
   "pygments_lexer": "ipython3",
   "version": "3.7.3"
  }
 },
 "nbformat": 4,
 "nbformat_minor": 2
}
