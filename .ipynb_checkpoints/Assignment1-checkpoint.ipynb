{
 "cells": [
  {
   "cell_type": "code",
   "execution_count": 1,
   "metadata": {},
   "outputs": [],
   "source": [
    "import requests\n",
    "from bs4 import BeautifulSoup\n",
    "import time\n",
    "import pyshorteners\n",
    "import pandas as pd\n",
    "import numpy as np\n",
    "import nltk\n",
    "from newspaper import Article, ArticleException\n",
    "nltk.download('punkt')"
   ]
  },
  {
   "cell_type": "code",
   "execution_count": 2,
   "metadata": {},
   "outputs": [],
   "source": [
    "link = \"https://news.google.com/\"\n",
    "url_shortener = pyshorteners.Shortener()"
   ]
  },
  {
   "cell_type": "code",
   "execution_count": 3,
   "metadata": {},
   "outputs": [],
   "source": [
    "html_doc = requests.get('https://news.google.com/topics/CAAqJggKIiBDQkFTRWdvSUwyMHZNRGx6TVdZU0FtVnVHZ0pKVGlnQVAB?hl=en-IN&gl=IN&ceid=IN%3Aen')\n",
    "soup = BeautifulSoup(html_doc.text, 'html.parser')"
   ]
  },
  {
   "cell_type": "code",
   "execution_count": null,
   "metadata": {},
   "outputs": [],
   "source": [
    "boxes = soup.findAll('div', {'jslog': '88374'})\n",
    "text_map = dict()"
   ]
  },
  {
   "cell_type": "code",
   "execution_count": null,
   "metadata": {},
   "outputs": [],
   "source": [
    "main_news_data = []\n",
    "for i, box in enumerate(boxes):\n",
    "    main_news_temp = []\n",
    "    articles = box.findAll('article')\n",
    "    main_news_link = link + articles[0].find('a').get('href')\n",
    "    url = url_shortener.tinyurl.short(main_news_link)\n",
    "    main_news = Article(url)\n",
    "    while True:\n",
    "        try:\n",
    "            main_news.download()\n",
    "            break\n",
    "        except ArticleException:\n",
    "            pass\n",
    "    main_news.parse()\n",
    "    text = main_news.text\n",
    "    lines = text.split('.')\n",
    "    text_map[url] = lines\n",
    "    main_news.nlp()\n",
    "    main_news_temp.append(main_news.title)\n",
    "    main_news_temp.append(main_news.summary)\n",
    "    main_news_temp.append(main_news.publish_date)\n",
    "    main_news_temp.append(url)\n",
    "    main_news_data.append(main_news_temp)\n",
    "main_news_df = pd.DataFrame(main_news_data, columns=['Title', 'Summary', 'Publish Date', 'Link'])\n",
    "print(main_news_df.head(5))"
   ]
  },
  {
   "cell_type": "code",
   "execution_count": null,
   "metadata": {},
   "outputs": [],
   "source": [
    "sub_news_data = []\n",
    "for i, box in enumerate(boxes):\n",
    "    sub_news_temp = []\n",
    "    articles = box.findAll('article')\n",
    "    sub_news_link = link + articles[1].find('a').get('href')\n",
    "    url = url_shortener.tinyurl.short(sub_news_link)\n",
    "    sub_news = Article(url)\n",
    "    while True:\n",
    "        try:\n",
    "            sub_news.download()\n",
    "            break\n",
    "        except ArticleException:\n",
    "            pass\n",
    "    sub_news.parse()\n",
    "    text = sub_news.text\n",
    "    lines = text.split('.')\n",
    "    text_map[url] = lines\n",
    "    sub_news.nlp()\n",
    "    sub_news_temp.append(sub_news.title)\n",
    "    sub_news_temp.append(sub_news.summary)\n",
    "    sub_news_temp.append(sub_news.publish_date)\n",
    "    sub_news_temp.append(url)\n",
    "    sub_news_data.append(sub_news_temp)\n",
    "sub_news_df = pd.DataFrame(sub_news_data, columns=['Title', 'Summary', 'Publish Date', 'Link'])\n",
    "print(sub_news_df.head(5))"
   ]
  },
  {
   "cell_type": "code",
   "execution_count": null,
   "metadata": {},
   "outputs": [],
   "source": [
    "main_news_links = main_news_df[:]['Link'].values\n",
    "sub_news_links = sub_news_df[:]['Link'].values\n",
    "links = main_news_links + sub_news_links"
   ]
  },
  {
   "cell_type": "code",
   "execution_count": null,
   "metadata": {},
   "outputs": [],
   "source": [
    "def search_word(word):\n",
    "    for key, value in text_map.items():\n",
    "        for line in value:\n",
    "            if word in line:\n",
    "                print(\"Found at: \" + key)\n",
    "                print(line + \"\\n\")\n",
    "                \n",
    "search_word('COVID-19')"
   ]
  }
 ],
 "metadata": {
  "kernelspec": {
   "display_name": "Python 3",
   "language": "python",
   "name": "python3"
  },
  "language_info": {
   "codemirror_mode": {
    "name": "ipython",
    "version": 3
   },
   "file_extension": ".py",
   "mimetype": "text/x-python",
   "name": "python",
   "nbconvert_exporter": "python",
   "pygments_lexer": "ipython3",
   "version": "3.7.3"
  }
 },
 "nbformat": 4,
 "nbformat_minor": 2
}
