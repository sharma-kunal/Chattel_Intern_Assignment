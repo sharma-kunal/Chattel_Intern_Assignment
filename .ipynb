{
 "cells": [
  {
   "cell_type": "code",
   "execution_count": 1,
   "metadata": {},
   "outputs": [],
   "source": [
    "import pandas as pd\n",
    "from bs4 import BeautifulSoup\n",
    "import requests\n",
    "import time"
   ]
  },
  {
   "cell_type": "code",
   "execution_count": 2,
   "metadata": {},
   "outputs": [],
   "source": [
    "def get_data():\n",
    "    html_doc = requests.get('https://www.moneycontrol.com/stocks/marketstats/indexcomp.php?optex=NSE&opttopic=indexcomp&index=9')\n",
    "    soup = BeautifulSoup(html_doc.text, 'html.parser')\n",
    "    rows = soup.findAll('table')[1].findAll('tr')[1:]\n",
    "    data = []\n",
    "    for row in rows:\n",
    "        cols = row.findAll('td')\n",
    "        temp = []\n",
    "        for i, col in enumerate(cols):\n",
    "            if i == 0:\n",
    "                temp.append(col.find('b').text)\n",
    "            else:\n",
    "                temp.append(col.text)\n",
    "        data.append(temp)\n",
    "    return pd.DataFrame(data, columns=['Company Name', 'Industry', 'Last Price', 'Change', '%Chg', 'Mkt Cap'])"
   ]
  },
  {
   "cell_type": "code",
   "execution_count": 3,
   "metadata": {},
   "outputs": [],
   "source": [
    "def alert(company_name, percent_change):\n",
    "    print(f\"{company_name}: {percent_change}\")\n",
    "    \n",
    "def check_for_alert(prev_change, new_change):\n",
    "    res = []\n",
    "    l = len(prev_change)\n",
    "    for i in range(l):\n",
    "        if abs(float(new_change[i])-float(prev_change[i])) >= 2:\n",
    "            res.append(i)\n",
    "    return res"
   ]
  },
  {
   "cell_type": "code",
   "execution_count": null,
   "metadata": {},
   "outputs": [],
   "source": [
    "start_time = time.time()\n",
    "df = get_data()\n",
    "running_time = 0\n",
    "data = [df]\n",
    "total_time = 20 #minutes\n",
    "while running_time <= total_time*60:\n",
    "    time.sleep(30)\n",
    "    df = get_data()\n",
    "    data.append(df)\n",
    "    if len(data) % 4 == 0:\n",
    "        temp = check_for_alert(data[0][:]['%Chg'].values, data[-1][:]['%Chg'].values)\n",
    "        for i in temp:\n",
    "            alert(data[-1][i]['Company Name'], abs(float(data[-1][i]['%Chg'])-float(data[0][i]['%Chg'])))\n",
    "        data = data[1:]\n",
    "    running_time = time.time()-start_time"
   ]
  }
 ],
 "metadata": {
  "kernelspec": {
   "display_name": "Python 3",
   "language": "python",
   "name": "python3"
  },
  "language_info": {
   "codemirror_mode": {
    "name": "ipython",
    "version": 3
   },
   "file_extension": ".py",
   "mimetype": "text/x-python",
   "name": "python",
   "nbconvert_exporter": "python",
   "pygments_lexer": "ipython3",
   "version": "3.7.3"
  }
 },
 "nbformat": 4,
 "nbformat_minor": 2
}
